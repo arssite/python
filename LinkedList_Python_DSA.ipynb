{
  "nbformat": 4,
  "nbformat_minor": 0,
  "metadata": {
    "colab": {
      "provenance": [],
      "authorship_tag": "ABX9TyMgZqcumuKNiXVvSFGGzdH+",
      "include_colab_link": true
    },
    "kernelspec": {
      "name": "python3",
      "display_name": "Python 3"
    },
    "language_info": {
      "name": "python"
    }
  },
  "cells": [
    {
      "cell_type": "markdown",
      "metadata": {
        "id": "view-in-github",
        "colab_type": "text"
      },
      "source": [
        "<a href=\"https://colab.research.google.com/github/arssite/python/blob/main/LinkedList_Python_DSA.ipynb\" target=\"_parent\"><img src=\"https://colab.research.google.com/assets/colab-badge.svg\" alt=\"Open In Colab\"/></a>"
      ]
    },
    {
      "cell_type": "markdown",
      "source": [
        "# Insertion In Linked List **(At Begining)**"
      ],
      "metadata": {
        "id": "hm-HBUn2vBDo"
      }
    },
    {
      "cell_type": "code",
      "source": [
        "class Node:\n",
        "   def __init__(self, data):\n",
        "      self.data = data\n",
        "      self.next = None\n",
        "\n",
        "class SLL:\n",
        "   def __init__(self):\n",
        "      self.head = None\n",
        "\n",
        "l1 = SLL()\n",
        "l1.head= Node(1)\n",
        "o2 = Node(2)\n",
        "o3 = Node(3)\n",
        "l1.head.next = o2\n",
        "\n",
        "o2.next= o3\n"
      ],
      "metadata": {
        "id": "M11PO87ysei_"
      },
      "execution_count": null,
      "outputs": []
    },
    {
      "cell_type": "markdown",
      "source": [
        "# Insertion In Linked List **(At Last)**"
      ],
      "metadata": {
        "id": "nj9fguXh3tGy"
      }
    },
    {
      "cell_type": "code",
      "source": [
        "\n",
        "class Node:\n",
        "\n",
        "\n",
        "\tdef __init__(self, data):\n",
        "\t\tself.data = data\n",
        "\t\tself.next = None\n",
        "\n",
        "class LL:\n",
        "\n",
        "\tdef __init__(self):\n",
        "\t\tself.head = None\n",
        "\n",
        "\tdef push(self, newdata):\n",
        "\n",
        "\t\tnewnode = Node(newdata)\n",
        "\n",
        "\t\tnewnode.next = self.head\n",
        "\n",
        "\t\tself.head = newnode\n",
        "\n",
        "\n",
        "\n",
        "\tdef baadme(self, prevnode, newdata):\n",
        "\n",
        "\n",
        "\t\tif prevnode is None:\n",
        "\t\t\tpass\n",
        "\t\t\treturn\n",
        "\n",
        "\n",
        "\t\tnewnode = Node(newdata)\n",
        "\n",
        "\t\tnewnode.next = prevnode.next\n",
        "\n",
        "\n",
        "\t\tprevnode.next = newnode\n",
        "\n",
        "\n",
        "\tdef append(self, newdata):\n",
        "\n",
        "\t\tnewnode = Node(newdata)\n",
        "\n",
        "\n",
        "\t\tif self.head is None:\n",
        "\t\t\tself.head = newnode\n",
        "\t\t\treturn\n",
        "\n",
        "\n",
        "\t\tlast = self.head\n",
        "\t\twhile (last.next):\n",
        "\t\t\tlast = last.next\n",
        "\n",
        "\n",
        "\t\tlast.next = newnode\n",
        "\n",
        "\n",
        "\tdef printList(self):\n",
        "\t\ttemp = self.head\n",
        "\t\twhile (temp):\n",
        "\t\t\tprint(temp.data,end=\" \")\n",
        "\t\t\ttemp = temp.next\n",
        "\n",
        "\n",
        "\n",
        "\n",
        "if __name__=='__main__':\n",
        "\n",
        "\n",
        "\tllist = LL()\n",
        "\n",
        "\n",
        "\tllist.append(6)\n",
        "\n",
        "\n",
        "\tllist.push(7);\n",
        "\n",
        "\n",
        "\tllist.push(1);\n",
        "\n",
        "\tllist.append(4)\n",
        "\n",
        "\tllist.baadme(llist.head.next, 8)\n",
        "\n",
        "\n",
        "\tllist.printList()\n",
        "\n"
      ],
      "metadata": {
        "colab": {
          "base_uri": "https://localhost:8080/"
        },
        "id": "xgRYHzg3s_rP",
        "outputId": "bb02e61f-e619-46cb-8c7b-fdac350de6cc"
      },
      "execution_count": null,
      "outputs": [
        {
          "output_type": "stream",
          "name": "stdout",
          "text": [
            "1 7 8 6 4 "
          ]
        }
      ]
    },
    {
      "cell_type": "code",
      "source": [],
      "metadata": {
        "id": "DZwCmygpyXf1"
      },
      "execution_count": null,
      "outputs": []
    }
  ]
}