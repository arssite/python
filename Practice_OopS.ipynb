{
  "nbformat": 4,
  "nbformat_minor": 0,
  "metadata": {
    "colab": {
      "provenance": [],
      "authorship_tag": "ABX9TyMdoqpNRksjn0EWMu1DafBn",
      "include_colab_link": true
    },
    "kernelspec": {
      "name": "python3",
      "display_name": "Python 3"
    },
    "language_info": {
      "name": "python"
    }
  },
  "cells": [
    {
      "cell_type": "markdown",
      "metadata": {
        "id": "view-in-github",
        "colab_type": "text"
      },
      "source": [
        "<a href=\"https://colab.research.google.com/github/arssite/python/blob/main/Practice_OopS.ipynb\" target=\"_parent\"><img src=\"https://colab.research.google.com/assets/colab-badge.svg\" alt=\"Open In Colab\"/></a>"
      ]
    },
    {
      "cell_type": "code",
      "execution_count": 7,
      "metadata": {
        "id": "9pHjeeBfH9ig"
      },
      "outputs": [],
      "source": [
        "class Khushi:\n",
        "  msg=\"Good Morning\" #class Variable\n",
        "  def say(self):\n",
        "    print(self.msg)\n",
        "\n",
        ""
      ]
    },
    {
      "cell_type": "code",
      "source": [
        "ob=Khushi()\n",
        "ob.say()"
      ],
      "metadata": {
        "colab": {
          "base_uri": "https://localhost:8080/"
        },
        "id": "G59FIp6ZIPyY",
        "outputId": "a8515286-566e-4e8b-927d-c5cd2a5328a7"
      },
      "execution_count": 8,
      "outputs": [
        {
          "output_type": "stream",
          "name": "stdout",
          "text": [
            "Good Morning\n"
          ]
        }
      ]
    },
    {
      "cell_type": "code",
      "source": [
        "class dict:\n",
        "  def __init__(self,n,a,g):\n",
        "    self.n,self.a,self.g=n,a,g #instance varible\n",
        "  def out(self):\n",
        "    print(self.n,self.a,self.g)\n"
      ],
      "metadata": {
        "id": "ojd5E-M1ITSH"
      },
      "execution_count": 9,
      "outputs": []
    },
    {
      "cell_type": "code",
      "source": [
        "ob=dict('ars','21','m')\n",
        "ob.out()"
      ],
      "metadata": {
        "colab": {
          "base_uri": "https://localhost:8080/"
        },
        "id": "lsLNmawxKuK1",
        "outputId": "a0eb0521-9296-420b-8577-f4c11c17f1c3"
      },
      "execution_count": 10,
      "outputs": [
        {
          "output_type": "stream",
          "name": "stdout",
          "text": [
            "ars 21 m\n"
          ]
        }
      ]
    },
    {
      "cell_type": "code",
      "source": [
        "class dict:\n",
        "  def __init__(self,n,a):\n",
        "    self.n,self.a,=n,a #instance varible\n",
        "  def __str__(self):\n",
        "    return f\"{self.n} {self.a}\""
      ],
      "metadata": {
        "id": "BhzlyffgK3Ne"
      },
      "execution_count": 14,
      "outputs": []
    },
    {
      "cell_type": "code",
      "source": [
        "dict('ars','21')"
      ],
      "metadata": {
        "colab": {
          "base_uri": "https://localhost:8080/"
        },
        "id": "t-G9RNDxPiiE",
        "outputId": "d0013b67-501b-4eb9-c425-3b2bde5377b2"
      },
      "execution_count": 15,
      "outputs": [
        {
          "output_type": "execute_result",
          "data": {
            "text/plain": [
              "<__main__.dict at 0x7d639bd5e8f0>"
            ]
          },
          "metadata": {},
          "execution_count": 15
        }
      ]
    },
    {
      "cell_type": "code",
      "source": [
        "print(dict('ars','21'))"
      ],
      "metadata": {
        "colab": {
          "base_uri": "https://localhost:8080/"
        },
        "id": "gYUQ81ISPlI7",
        "outputId": "5ce5974d-1c14-48bd-ddd6-5a79cf521927"
      },
      "execution_count": 17,
      "outputs": [
        {
          "output_type": "stream",
          "name": "stdout",
          "text": [
            "ars 21\n"
          ]
        }
      ]
    },
    {
      "cell_type": "markdown",
      "source": [
        "Types Of Method:\n",
        "\n",
        "1:Instance Method(self)\n",
        "\n",
        "2:class Method(cls)\n",
        "\n",
        "3: static method"
      ],
      "metadata": {
        "id": "-LJ86kcRTije"
      }
    },
    {
      "cell_type": "code",
      "source": [
        "class MyClass:\n",
        "  # Class method\n",
        "  @classmethod\n",
        "  def class_method(cls):\n",
        "    print(f\"This is a class method of {cls.__name__}\")\n",
        "\n",
        "  # Instance method\n",
        "  def instance_method(self):\n",
        "    print(f\"This is an instance method of {self}\")\n",
        "\n",
        "  # Static method\n",
        "  @staticmethod\n",
        "  def static_method():\n",
        "    print(\"This is a static method\")\n",
        "\n",
        "# Calling class method\n",
        "MyClass.class_method()\n",
        "\n",
        "# Creating an instance of the class\n",
        "obj = MyClass()\n",
        "\n",
        "# Calling instance method\n",
        "obj.instance_method()\n",
        "\n",
        "# Calling static method\n",
        "MyClass.static_method()\n"
      ],
      "metadata": {
        "colab": {
          "base_uri": "https://localhost:8080/"
        },
        "id": "rjq0i2hHSo6j",
        "outputId": "e746dc1d-f633-4a43-b7c6-1be821539a23"
      },
      "execution_count": 18,
      "outputs": [
        {
          "output_type": "stream",
          "name": "stdout",
          "text": [
            "This is a class method of MyClass\n",
            "This is an instance method of <__main__.MyClass object at 0x7d639bd5f400>\n",
            "This is a static method\n"
          ]
        }
      ]
    },
    {
      "cell_type": "code",
      "source": [
        "class Std:\n",
        "  c=0\n",
        "  def __init__(self,n,m):\n",
        "    self.n,self.m=n,m\n",
        "    Std.c+=1\n",
        "  def out(self):\n",
        "    print(self.n,self.m)\n",
        "  @classmethod\n",
        "  def count(cls):\n",
        "    return cls.c"
      ],
      "metadata": {
        "id": "O6-JBBUXYQC-"
      },
      "execution_count": 30,
      "outputs": []
    },
    {
      "cell_type": "code",
      "source": [
        "s1=Std(\"Ars\",65)\n",
        "s2=Std(\"Khushi\",65)\n",
        "print(Std.count())\n",
        "print(s1.count())\n"
      ],
      "metadata": {
        "colab": {
          "base_uri": "https://localhost:8080/"
        },
        "id": "FbGmNQzaYmRv",
        "outputId": "c122a9c7-608f-471d-abde-310118f9a25f"
      },
      "execution_count": 31,
      "outputs": [
        {
          "output_type": "stream",
          "name": "stdout",
          "text": [
            "2\n",
            "2\n"
          ]
        }
      ]
    },
    {
      "cell_type": "code",
      "source": [],
      "metadata": {
        "id": "De7V5To0Y1ty"
      },
      "execution_count": null,
      "outputs": []
    }
  ]
}