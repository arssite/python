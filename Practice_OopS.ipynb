{
  "nbformat": 4,
  "nbformat_minor": 0,
  "metadata": {
    "colab": {
      "provenance": [],
      "authorship_tag": "ABX9TyM0XL/E6roSi/+wY1s6s1P5",
      "include_colab_link": true
    },
    "kernelspec": {
      "name": "python3",
      "display_name": "Python 3"
    },
    "language_info": {
      "name": "python"
    }
  },
  "cells": [
    {
      "cell_type": "markdown",
      "metadata": {
        "id": "view-in-github",
        "colab_type": "text"
      },
      "source": [
        "<a href=\"https://colab.research.google.com/github/arssite/python/blob/main/Practice_OopS.ipynb\" target=\"_parent\"><img src=\"https://colab.research.google.com/assets/colab-badge.svg\" alt=\"Open In Colab\"/></a>"
      ]
    },
    {
      "cell_type": "code",
      "execution_count": null,
      "metadata": {
        "id": "9pHjeeBfH9ig"
      },
      "outputs": [],
      "source": [
        "class Khushi:\n",
        "  msg=\"Good Morning\" #class Variable\n",
        "  def say(self):\n",
        "    print(self.msg)\n",
        "\n"
      ]
    },
    {
      "cell_type": "code",
      "source": [
        "ob=Khushi()\n",
        "ob.say()"
      ],
      "metadata": {
        "colab": {
          "base_uri": "https://localhost:8080/"
        },
        "id": "G59FIp6ZIPyY",
        "outputId": "9a3978b1-f712-40ad-9265-7f877b08d31d"
      },
      "execution_count": null,
      "outputs": [
        {
          "output_type": "stream",
          "name": "stdout",
          "text": [
            "Good Morning\n"
          ]
        }
      ]
    },
    {
      "cell_type": "code",
      "source": [
        "class dict:\n",
        "  def __init__(self,n,a,g):\n",
        "    self.n,self.a,self.g=n,a,g #instance varible\n",
        "  def out(self):\n",
        "    print(self.n,self.a,self.g)\n"
      ],
      "metadata": {
        "id": "ojd5E-M1ITSH"
      },
      "execution_count": null,
      "outputs": []
    },
    {
      "cell_type": "code",
      "source": [
        "ob=dict('ars','21','m')\n",
        "ob.out()"
      ],
      "metadata": {
        "colab": {
          "base_uri": "https://localhost:8080/"
        },
        "id": "lsLNmawxKuK1",
        "outputId": "8011dd8f-5946-448b-93e1-bececa9f8186"
      },
      "execution_count": null,
      "outputs": [
        {
          "output_type": "stream",
          "name": "stdout",
          "text": [
            "ars 21 m\n"
          ]
        }
      ]
    },
    {
      "cell_type": "code",
      "source": [
        "class dict:\n",
        "  def __init__(self,n,a):\n",
        "    self.n,self.a,=n,a #instance varible\n",
        "  def __str__(self):\n",
        "    return f\"{self.n} {self.a}\""
      ],
      "metadata": {
        "id": "BhzlyffgK3Ne"
      },
      "execution_count": null,
      "outputs": []
    },
    {
      "cell_type": "code",
      "source": [
        "\n",
        "dict('ars','21')"
      ],
      "metadata": {
        "colab": {
          "base_uri": "https://localhost:8080/"
        },
        "id": "t-G9RNDxPiiE",
        "outputId": "3a483b6d-b4dc-449b-e91d-cad34ecdc1cb"
      },
      "execution_count": null,
      "outputs": [
        {
          "output_type": "execute_result",
          "data": {
            "text/plain": [
              "<__main__.dict at 0x7d6a6ab20ee0>"
            ]
          },
          "metadata": {},
          "execution_count": 6
        }
      ]
    },
    {
      "cell_type": "code",
      "source": [
        "print(dict('ars','21'))"
      ],
      "metadata": {
        "colab": {
          "base_uri": "https://localhost:8080/"
        },
        "id": "gYUQ81ISPlI7",
        "outputId": "a1cdde89-774a-49f9-a6cb-03e0aa36e909"
      },
      "execution_count": null,
      "outputs": [
        {
          "output_type": "stream",
          "name": "stdout",
          "text": [
            "ars 21\n"
          ]
        }
      ]
    },
    {
      "cell_type": "code",
      "source": [
        "class MathOps:\n",
        "  @staticmethod\n",
        "  def add(a,b):\n",
        "    return a+b\n",
        "  @staticmethod\n",
        "  def sub(a,b):\n",
        "    return a-b"
      ],
      "metadata": {
        "id": "YGy9xjw2ctLN"
      },
      "execution_count": null,
      "outputs": []
    },
    {
      "cell_type": "code",
      "source": [
        "obj=MathOps()\n",
        "res=obj.add(10,20)\n",
        "res2=obj.sub(10,20)\n",
        "print(res)\n",
        "print(res2)"
      ],
      "metadata": {
        "colab": {
          "base_uri": "https://localhost:8080/"
        },
        "id": "oX3OfcHmc3R1",
        "outputId": "9bd75518-3118-458a-c9d9-9a57d7e0ade1"
      },
      "execution_count": null,
      "outputs": [
        {
          "output_type": "stream",
          "name": "stdout",
          "text": [
            "30\n",
            "-10\n"
          ]
        }
      ]
    },
    {
      "cell_type": "markdown",
      "source": [
        "Types Of Method:\n",
        "\n",
        "1:Instance Method(self)\n",
        "\n",
        "2:class Method(cls)\n",
        "\n",
        "3: static method"
      ],
      "metadata": {
        "id": "-LJ86kcRTije"
      }
    },
    {
      "cell_type": "code",
      "source": [
        "class MyClass:\n",
        "  # Class method\n",
        "  @classmethod\n",
        "  def class_method(cls):\n",
        "    print(f\"This is a class method of {cls.__name__}\")\n",
        "\n",
        "  # Instance method\n",
        "  def instance_method(self):\n",
        "    print(f\"This is an instance method of {self}\")\n",
        "\n",
        "  # Static method\n",
        "  @staticmethod\n",
        "  def static_method():\n",
        "    print(\"This is a static method\")\n",
        "\n",
        "# Calling class method\n",
        "MyClass.class_method()\n",
        "\n",
        "# Creating an instance of the class\n",
        "obj = MyClass()\n",
        "\n",
        "# Calling instance method\n",
        "obj.instance_method()\n",
        "\n",
        "# Calling static method\n",
        "MyClass.static_method()\n"
      ],
      "metadata": {
        "colab": {
          "base_uri": "https://localhost:8080/"
        },
        "id": "rjq0i2hHSo6j",
        "outputId": "e746dc1d-f633-4a43-b7c6-1be821539a23"
      },
      "execution_count": null,
      "outputs": [
        {
          "output_type": "stream",
          "name": "stdout",
          "text": [
            "This is a class method of MyClass\n",
            "This is an instance method of <__main__.MyClass object at 0x7d639bd5f400>\n",
            "This is a static method\n"
          ]
        }
      ]
    },
    {
      "cell_type": "code",
      "source": [
        "class Std:\n",
        "  c=0\n",
        "  def __init__(self,n,m):\n",
        "    self.n,self.m=n,m\n",
        "    Std.c+=1\n",
        "  def out(self):\n",
        "    print(self.n,self.m)\n",
        "  @classmethod\n",
        "  def count(cls):\n",
        "    return cls.c"
      ],
      "metadata": {
        "id": "O6-JBBUXYQC-"
      },
      "execution_count": null,
      "outputs": []
    },
    {
      "cell_type": "code",
      "source": [
        "s1=Std(\"Ars\",65)\n",
        "s2=Std(\"Khushi\",65)\n",
        "print(Std.count())\n",
        "print(s1.count())\n"
      ],
      "metadata": {
        "colab": {
          "base_uri": "https://localhost:8080/"
        },
        "id": "FbGmNQzaYmRv",
        "outputId": "c122a9c7-608f-471d-abde-310118f9a25f"
      },
      "execution_count": null,
      "outputs": [
        {
          "output_type": "stream",
          "name": "stdout",
          "text": [
            "2\n",
            "2\n"
          ]
        }
      ]
    },
    {
      "cell_type": "code",
      "source": [
        "class Ars():\n",
        "  name=\"\"\n",
        "  def eat(self):\n",
        "    print(\"I am eating\")\n",
        "class Ks(Ars):\n",
        "  def display():\n",
        "    print(\"My name\"+self.name)\n",
        "la=Ars()\n",
        "la.name=\"Ars\"\n",
        "la.eat()"
      ],
      "metadata": {
        "colab": {
          "base_uri": "https://localhost:8080/"
        },
        "id": "De7V5To0Y1ty",
        "outputId": "ec86517f-3656-4400-f242-4745e989cefd"
      },
      "execution_count": null,
      "outputs": [
        {
          "output_type": "stream",
          "name": "stdout",
          "text": [
            "I am eating\n"
          ]
        }
      ]
    },
    {
      "cell_type": "code",
      "source": [
        "class Anmol:\n",
        "  m=1000\n",
        "  def show(self):\n",
        "    print(\"Ins Papa\")\n",
        "  @classmethod\n",
        "  def money(cls):\n",
        "    print(\"Cls papa\")\n",
        "  @staticmethod\n",
        "  def stat():\n",
        "    a=5\n",
        "    print(\"stat\")"
      ],
      "metadata": {
        "id": "yTxos2j2k7xr"
      },
      "execution_count": null,
      "outputs": []
    },
    {
      "cell_type": "code",
      "source": [
        "class Ankush(Anmol):\n",
        "  def son(self):\n",
        "    print(\"Son\")"
      ],
      "metadata": {
        "id": "Lz37aObRn-3k"
      },
      "execution_count": null,
      "outputs": []
    },
    {
      "cell_type": "code",
      "source": [
        "S=Ankush()\n",
        "S.show()\n",
        "S.money()\n",
        "S.stat()"
      ],
      "metadata": {
        "id": "Tjm--x3HoE3E"
      },
      "execution_count": null,
      "outputs": []
    },
    {
      "cell_type": "code",
      "source": [
        "class Fill():\n",
        "  def __init__(self,n,m):\n",
        "    self.n,self.m=n,m\n",
        "    print(self.n,self.m)\n",
        "class Emp(Fill):\n",
        "  pass"
      ],
      "metadata": {
        "id": "TXBAoWhG6xLq"
      },
      "execution_count": null,
      "outputs": []
    },
    {
      "cell_type": "code",
      "source": [
        "Fill('ars','21')"
      ],
      "metadata": {
        "colab": {
          "base_uri": "https://localhost:8080/"
        },
        "id": "mJ5I_ALp68Rv",
        "outputId": "7419151e-49d8-4271-e720-71138b7ee4d7"
      },
      "execution_count": null,
      "outputs": [
        {
          "output_type": "stream",
          "name": "stdout",
          "text": [
            "ars 21\n"
          ]
        },
        {
          "output_type": "execute_result",
          "data": {
            "text/plain": [
              "<__main__.Fill at 0x7d6a4dce2d10>"
            ]
          },
          "metadata": {},
          "execution_count": 11
        }
      ]
    },
    {
      "cell_type": "code",
      "source": [
        "class F:\n",
        "  def __init__(self):\n",
        "    self.money=2000\n",
        "    print(\"f cons\")\n",
        "class S(F):\n",
        "  def __init__(self):\n",
        "    super().__init__()\n",
        "    self.money=3000\n",
        "    print(\"s cons\")\n",
        "  def display(self):\n",
        "    print(self.money)\n"
      ],
      "metadata": {
        "id": "Xt429lzQ7APQ"
      },
      "execution_count": null,
      "outputs": []
    },
    {
      "cell_type": "code",
      "source": [
        "c=S()\n",
        "c.display()"
      ],
      "metadata": {
        "colab": {
          "base_uri": "https://localhost:8080/"
        },
        "id": "Bh_m4i5e8PMB",
        "outputId": "b95be7ae-b799-48ed-d6dd-ab277f601b0a"
      },
      "execution_count": null,
      "outputs": [
        {
          "output_type": "stream",
          "name": "stdout",
          "text": [
            "f cons\n",
            "s cons\n",
            "3000\n"
          ]
        }
      ]
    },
    {
      "cell_type": "code",
      "source": [
        "class A:\n",
        "    def method(self):\n",
        "      print(\"a\")\n",
        "\n",
        "class B(A):\n",
        "    pass\n",
        "\n",
        "class C(A):\n",
        "    pass\n",
        "\n",
        "class D(B, C):\n",
        "    pass\n",
        "d=D()\n",
        "print(D.mro())\n",
        "print(d.method())\n"
      ],
      "metadata": {
        "colab": {
          "base_uri": "https://localhost:8080/"
        },
        "id": "g_BDVnsw8wix",
        "outputId": "ba753162-493e-405a-af8e-130b5e608155"
      },
      "execution_count": 18,
      "outputs": [
        {
          "output_type": "stream",
          "name": "stdout",
          "text": [
            "[<class '__main__.D'>, <class '__main__.B'>, <class '__main__.C'>, <class '__main__.A'>, <class 'object'>]\n",
            "a\n",
            "None\n"
          ]
        }
      ]
    },
    {
      "cell_type": "code",
      "source": [
        "class Std:\n",
        "  def __init__(self,n,m):\n",
        "    self.n,self.m=n,m\n",
        "  def __add__(self,other):\n",
        "    m=self.m + other.m\n",
        "    n=self.n + other.n\n",
        "    s3=Std(m,n)\n",
        "    return s3"
      ],
      "metadata": {
        "id": "V8OaBu4aDRLG"
      },
      "execution_count": 24,
      "outputs": []
    },
    {
      "cell_type": "code",
      "source": [
        "s1=Std(58,59)\n",
        "s2=Std(60,65)\n",
        "s3=s1+s2\n",
        "print(s3.m)"
      ],
      "metadata": {
        "colab": {
          "base_uri": "https://localhost:8080/"
        },
        "id": "dpegqWwXGwJ5",
        "outputId": "15efd2ce-f0d6-4d91-b765-a9d7d6c6259f"
      },
      "execution_count": 25,
      "outputs": [
        {
          "output_type": "stream",
          "name": "stdout",
          "text": [
            "118\n"
          ]
        }
      ]
    },
    {
      "cell_type": "code",
      "source": [
        "from abc import ABC, abstractmethod\n",
        "class Cmoputer(ABC):\n",
        "  @abstractmethod\n",
        "  def process(self):\n",
        "    pass\n",
        "  def start(self):\n",
        "    print(\"Computer Started\")\n",
        "class Laptop(Cmoputer):\n",
        "  def process(self):\n",
        "    print(\"Running1\")\n",
        "class Desktop(Cmoputer):\n",
        "  def process(self):\n",
        "    print(\"Running2\")"
      ],
      "metadata": {
        "id": "bw9W0W0ZG5DX"
      },
      "execution_count": 28,
      "outputs": []
    },
    {
      "cell_type": "code",
      "source": [
        "com1=Laptop()\n",
        "com2=Desktop()\n",
        "com1.start()\n",
        "com2.process()"
      ],
      "metadata": {
        "colab": {
          "base_uri": "https://localhost:8080/"
        },
        "id": "J_RXKVkxNzxp",
        "outputId": "e42b29db-2e8e-4367-ecba-caaba3ac8834"
      },
      "execution_count": 29,
      "outputs": [
        {
          "output_type": "stream",
          "name": "stdout",
          "text": [
            "Computer Started\n",
            "Running2\n"
          ]
        }
      ]
    },
    {
      "cell_type": "code",
      "source": [],
      "metadata": {
        "id": "u4lnvl-NN_Sa"
      },
      "execution_count": null,
      "outputs": []
    }
  ]
}