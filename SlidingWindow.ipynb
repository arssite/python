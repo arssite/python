{
  "nbformat": 4,
  "nbformat_minor": 0,
  "metadata": {
    "colab": {
      "provenance": [],
      "authorship_tag": "ABX9TyOl7nhFi3DeUnWN3K53rxzq",
      "include_colab_link": true
    },
    "kernelspec": {
      "name": "python3",
      "display_name": "Python 3"
    },
    "language_info": {
      "name": "python"
    }
  },
  "cells": [
    {
      "cell_type": "markdown",
      "metadata": {
        "id": "view-in-github",
        "colab_type": "text"
      },
      "source": [
        "<a href=\"https://colab.research.google.com/github/arssite/python/blob/main/SlidingWindow.ipynb\" target=\"_parent\"><img src=\"https://colab.research.google.com/assets/colab-badge.svg\" alt=\"Open In Colab\"/></a>"
      ]
    },
    {
      "cell_type": "markdown",
      "source": [
        "# **maximum sum of a subarray of size of k**\n",
        "\n",
        "Given an array of integers Arr of size N and a number K. Return the maximum sum of a subarray of size K.\n",
        "\n",
        "NOTE*: A subarray is a contiguous part of any given array.\n",
        "\n",
        "Example 1:\n",
        "\n",
        "Input:\n",
        "N = 4, K = 2\n",
        "Arr = [100, 200, 300, 400]\n",
        "Output:\n",
        "700\n",
        "Explanation:\n",
        "Arr3  + Arr4 =700,\n",
        "which is maximum.\n",
        "Example 2:\n",
        "\n",
        "Input:\n",
        "N = 4, K = 4\n",
        "Arr = [100, 200, 300, 400]\n",
        "Output:\n",
        "1000\n",
        "Explanation:\n",
        "Arr1 + Arr2 + Arr3 + Arr4 =1000,\n",
        "which is maximum.\n",
        "Your Task:\n",
        "\n",
        "You don't need to read input or print anything. Your task is to complete the function maximumSumSubarray() which takes the integer K, vector Arr with size N, containing the elements of the array and returns the maximum sum of a subarray of size K.\n",
        "\n",
        "Expected Time Complexity: O(N)\n",
        "Expected Auxiliary Space: O(1)\n",
        "\n",
        "Constraints:\n",
        "1 <= N <= 105\n",
        "1 <= Arri <= 105\n",
        "1 <= K <= N"
      ],
      "metadata": {
        "id": "tj9R88Lrw6TF"
      }
    },
    {
      "cell_type": "code",
      "execution_count": 1,
      "metadata": {
        "id": "QY7neRkEw3G1"
      },
      "outputs": [],
      "source": [
        "def maximumSumSubarray (self,K,Arr,N):\n",
        "        # code here\n",
        "        sum,i,j,lst=0,0,0,[]\n",
        "        while (j<N):\n",
        "            sum=sum+Arr[j]\n",
        "            if ((j-i+1)==K):\n",
        "                #print(sum)\n",
        "                lst.append(sum)\n",
        "                sum=sum-Arr[i]\n",
        "                i=i+1\n",
        "                j=j+1\n",
        "            else:\n",
        "                #print(sum)\n",
        "                j=j+1\n",
        "        return max(lst)"
      ]
    }
  ]
}