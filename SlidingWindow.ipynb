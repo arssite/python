{
  "nbformat": 4,
  "nbformat_minor": 0,
  "metadata": {
    "colab": {
      "provenance": [],
      "authorship_tag": "ABX9TyM2U/JDxn5lhJ3q/z6vfhui",
      "include_colab_link": true
    },
    "kernelspec": {
      "name": "python3",
      "display_name": "Python 3"
    },
    "language_info": {
      "name": "python"
    }
  },
  "cells": [
    {
      "cell_type": "markdown",
      "metadata": {
        "id": "view-in-github",
        "colab_type": "text"
      },
      "source": [
        "<a href=\"https://colab.research.google.com/github/arssite/python/blob/main/SlidingWindow.ipynb\" target=\"_parent\"><img src=\"https://colab.research.google.com/assets/colab-badge.svg\" alt=\"Open In Colab\"/></a>"
      ]
    },
    {
      "cell_type": "markdown",
      "source": [
        "# **maximum sum of a subarray of size of k**\n",
        "\n",
        "Given an array of integers Arr of size N and a number K. Return the maximum sum of a subarray of size K.\n",
        "\n",
        "NOTE*: A subarray is a contiguous part of any given array.\n",
        "\n",
        "Example 1:\n",
        "\n",
        "Input:\n",
        "N = 4, K = 2\n",
        "Arr = [100, 200, 300, 400]\n",
        "Output:\n",
        "700\n",
        "Explanation:\n",
        "Arr3  + Arr4 =700,\n",
        "which is maximum.\n",
        "Example 2:\n",
        "\n",
        "Input:\n",
        "N = 4, K = 4\n",
        "Arr = [100, 200, 300, 400]\n",
        "Output:\n",
        "1000\n",
        "Explanation:\n",
        "Arr1 + Arr2 + Arr3 + Arr4 =1000,\n",
        "which is maximum.\n",
        "Your Task:\n",
        "\n",
        "You don't need to read input or print anything. Your task is to complete the function maximumSumSubarray() which takes the integer K, vector Arr with size N, containing the elements of the array and returns the maximum sum of a subarray of size K.\n",
        "\n",
        "Expected Time Complexity: O(N)\n",
        "Expected Auxiliary Space: O(1)\n",
        "\n",
        "Constraints:\n",
        "1 <= N <= 105\n",
        "1 <= Arri <= 105\n",
        "1 <= K <= N"
      ],
      "metadata": {
        "id": "tj9R88Lrw6TF"
      }
    },
    {
      "cell_type": "code",
      "execution_count": 1,
      "metadata": {
        "id": "QY7neRkEw3G1"
      },
      "outputs": [],
      "source": [
        "def maximumSumSubarray (self,K,Arr,N):\n",
        "        # code here\n",
        "        sum,i,j,lst=0,0,0,[]\n",
        "        while (j<N):\n",
        "            sum=sum+Arr[j]\n",
        "            if ((j-i+1)==K):\n",
        "                #print(sum)\n",
        "                lst.append(sum)\n",
        "                sum=sum-Arr[i]\n",
        "                i=i+1\n",
        "                j=j+1\n",
        "            else:\n",
        "                #print(sum)\n",
        "                j=j+1\n",
        "        return max(lst)"
      ]
    },
    {
      "cell_type": "markdown",
      "source": [
        "# **find the first negative integer for each and every window**\n",
        "\n",
        "Given an array A[] of size N and a positive integer K, find the first negative integer for each and every window(contiguous subarray) of size K.\n",
        "\n",
        "\n",
        "\n",
        "Example 1:\n",
        "\n",
        "Input :\n",
        "N = 5\n",
        "A[] = {-8, 2, 3, -6, 10}\n",
        "K = 2\n",
        "Output :\n",
        "-8 0 -6 -6\n",
        "Explanation :\n",
        "First negative integer for each window of size k\n",
        "{-8, 2} = -8\n",
        "{2, 3} = 0 (does not contain a negative integer)\n",
        "{3, -6} = -6\n",
        "{-6, 10} = -6\n",
        "\n",
        "Example 2:\n",
        "Input :\n",
        "N = 8\n",
        "A[] = {12, -1, -7, 8, -15, 30, 16, 28}\n",
        "K = 3\n",
        "Output :\n",
        "-1 -1 -7 -15 -15 0\n",
        "\n",
        "\n",
        "Your Task:  \n",
        "You don't need to read input or print anything. Your task is to complete the function printFirstNegativeInteger() which takes the array A[], its size N and an integer K as inputs and returns the first negative number in every window of size K starting from the first till the end. If a window does not contain a negative integer , then return 0 for that window.\n",
        "\n",
        "\n",
        "Expected Time Complexity: O(N)\n",
        "Expected Auxiliary Space: O(K)"
      ],
      "metadata": {
        "id": "KoLvoT7KNDxX"
      }
    },
    {
      "cell_type": "code",
      "source": [
        "def printFirstNegativeInteger( A, N, K):\n",
        "    # code here\n",
        "    ans = []\n",
        "    Di = []\n",
        "    for i in range(N):\n",
        "            if A[i] < 0:\n",
        "                Di.append(i)\n",
        "\n",
        "            if i - K + 1 >= 0:\n",
        "                if Di and Di[0] < i - K + 1:\n",
        "                    Di.pop(0)\n",
        "\n",
        "                ans.append(A[Di[0]] if Di else 0)\n",
        "\n",
        "    return ans\n"
      ],
      "metadata": {
        "id": "lAhIjowgNDAz"
      },
      "execution_count": null,
      "outputs": []
    },
    {
      "cell_type": "code",
      "source": [],
      "metadata": {
        "id": "5t0VgGkjOSU_"
      },
      "execution_count": null,
      "outputs": []
    },
    {
      "cell_type": "code",
      "source": [],
      "metadata": {
        "id": "rRH6ny3sOTCB"
      },
      "execution_count": null,
      "outputs": []
    }
  ]
}