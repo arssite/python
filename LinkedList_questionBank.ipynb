{
  "nbformat": 4,
  "nbformat_minor": 0,
  "metadata": {
    "colab": {
      "provenance": [],
      "authorship_tag": "ABX9TyOYeWgrm8dtDP6CVZvSZX50",
      "include_colab_link": true
    },
    "kernelspec": {
      "name": "python3",
      "display_name": "Python 3"
    },
    "language_info": {
      "name": "python"
    }
  },
  "cells": [
    {
      "cell_type": "markdown",
      "metadata": {
        "id": "view-in-github",
        "colab_type": "text"
      },
      "source": [
        "<a href=\"https://colab.research.google.com/github/arssite/python/blob/main/LinkedList_questionBank.ipynb\" target=\"_parent\"><img src=\"https://colab.research.google.com/assets/colab-badge.svg\" alt=\"Open In Colab\"/></a>"
      ]
    },
    {
      "cell_type": "markdown",
      "source": [
        "You are given two non-empty linked lists representing two non-negative integers. The digits are stored in reverse order, and each of their nodes contains a single digit. Add the two numbers and return the sum as a linked list.\n",
        "\n",
        "You may assume the two numbers do not contain any leading zero, except the number 0 itself.\n",
        "\n",
        " 2 ---> 4 ----> 3\n",
        "\n",
        " 5 ---> 6 ----> 4\n",
        "\n",
        " 8 ----> 0 ----> 7\n",
        "\n",
        "Example 1:\n",
        "\n",
        "\n",
        "Input: l1 = [2,4,3], l2 = [5,6,4]\n",
        "Output: [7,0,8]\n",
        "Explanation: 342 + 465 = 807.\n",
        "Example 2:\n",
        "\n",
        "Input: l1 = [0], l2 = [0]\n",
        "Output: [0]\n",
        "Example 3:\n",
        "\n",
        "Input: l1 = [9,9,9,9,9,9,9], l2 = [9,9,9,9]\n",
        "Output: [8,9,9,9,0,0,0,1]\n",
        "\n",
        "\n",
        "Constraints:\n",
        "\n",
        "The number of nodes in each linked list is in the range [1, 100].\n",
        "0 <= Node.val <= 9\n",
        "It is guaranteed that the list represents a number that does not have leading zeros.\n"
      ],
      "metadata": {
        "id": "fxJznbsQUgVi"
      }
    },
    {
      "cell_type": "code",
      "execution_count": 3,
      "metadata": {
        "id": "me--2R_0UUZI"
      },
      "outputs": [],
      "source": [
        "# Definition for singly-linked list.\n",
        "class ListNode:\n",
        "     def __init__(self, val=0, next=None):\n",
        "         self.val = val\n",
        "         self.next = next\n",
        "class Solution:\n",
        "    def addTwoNumbers(self, l1, l2) :\n",
        "        carry = 0\n",
        "        head = ListNode()\n",
        "        current = head\n",
        "\n",
        "        result = l1.val + l2.val\n",
        "        carry = result // 10\n",
        "        current.val = str(result)[-1]\n",
        "\n",
        "        l1 = l1.next\n",
        "        l2 = l2.next\n",
        "\n",
        "        while l1 or l2 :\n",
        "            new = ListNode()\n",
        "            current.next = new\n",
        "            current = new\n",
        "\n",
        "            result = (l1.val if l1 else 0) + (l2.val if l2 else 0) + carry\n",
        "            carry = result // 10\n",
        "            current.val = str(result)[-1]\n",
        "\n",
        "            l1 = l1.next if l1 else None\n",
        "            l2 = l2.next if l2 else None\n",
        "\n",
        "        if carry > 0:\n",
        "            new = ListNode()\n",
        "            new.val = carry\n",
        "            current.next = new\n",
        "\n",
        "        return head"
      ]
    },
    {
      "cell_type": "markdown",
      "source": [
        "If you input l1 = [2, 4, 3] and l2 = [5, 6, 4] into the provided code, it will perform addition of the two numbers represented by these linked lists.\n",
        "\n",
        "Let's break down the addition step by step:\n",
        "\n",
        "The first nodes of l1 and l2 are 2 and 5 respectively. Adding them together gives 7. So, the first node of the result linked list will be 7.\n",
        "The second nodes of l1 and l2 are 4 and 6 respectively. Adding them together gives 10. Since 10 is two-digit, there's a carry-over. The last digit 0 becomes the value of the current node, and 1 becomes the carry-over for the next addition.\n",
        "The third nodes of l1 and l2 are 3 and 4 respectively. Adding them together along with the carry-over 1 gives 8.\n",
        "So, the resulting linked list will be [7, 0, 8]."
      ],
      "metadata": {
        "id": "Bc-1MMkXV6Z7"
      }
    }
  ]
}